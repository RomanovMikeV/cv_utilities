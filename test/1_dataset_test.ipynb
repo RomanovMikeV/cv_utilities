{
 "cells": [
  {
   "cell_type": "code",
   "execution_count": 1,
   "metadata": {},
   "outputs": [],
   "source": [
    "import sys\n",
    "sys.path.append('../src')\n",
    "\n",
    "import dataset\n",
    "\n",
    "ds_index = dataset.DataSetIndex('~/datasets/MNIST')\n",
    "\n",
    "train_dataset = dataset.DataSet(ds_index, mode='train')\n",
    "valid_dataset = dataset.DataSet(ds_index, mode='valid')\n",
    "test_dataset = dataset.DataSet(ds_index, mode='test')"
   ]
  },
  {
   "cell_type": "code",
   "execution_count": 2,
   "metadata": {},
   "outputs": [
    {
     "name": "stdout",
     "output_type": "stream",
     "text": [
      "48000 <- train dataset size\n",
      "6000 <- valid dataset size\n",
      "6000 <- test dataset size\n"
     ]
    }
   ],
   "source": [
    "print(len(train_dataset), '<- train dataset size')\n",
    "print(len(valid_dataset), '<- valid dataset size')\n",
    "print(len(test_dataset), '<- test dataset size')\n",
    "\n",
    "input, target = train_dataset[0]\n",
    "input, target = valid_dataset[0]\n",
    "input, target = test_dataset[0]\n"
   ]
  },
  {
   "cell_type": "code",
   "execution_count": 3,
   "metadata": {},
   "outputs": [
    {
     "name": "stdout",
     "output_type": "stream",
     "text": [
      "Stresstesting train ...OK\n",
      "Stresstesting valid ...OK\n",
      "Stresstesting test ...OK\n"
     ]
    }
   ],
   "source": [
    "print(\"Stresstesting train ...\", end='')\n",
    "for index in range(len(train_dataset)):\n",
    "    input, target = train_dataset[index]\n",
    "print(\"OK\")\n",
    "\n",
    "print(\"Stresstesting valid ...\", end='')\n",
    "for index in range(len(valid_dataset)):\n",
    "    input, target = valid_dataset[index]\n",
    "print(\"OK\")\n",
    "\n",
    "print(\"Stresstesting test ...\", end='')\n",
    "for index in range(len(test_dataset)):\n",
    "    input, target = test_dataset[index]\n",
    "print(\"OK\")"
   ]
  },
  {
   "cell_type": "code",
   "execution_count": 10,
   "metadata": {},
   "outputs": [],
   "source": [
    "input, target = train_dataset[20]"
   ]
  },
  {
   "cell_type": "code",
   "execution_count": 11,
   "metadata": {},
   "outputs": [
    {
     "name": "stdout",
     "output_type": "stream",
     "text": [
      "Populating the interactive namespace from numpy and matplotlib\n"
     ]
    }
   ],
   "source": [
    "%pylab inline"
   ]
  },
  {
   "cell_type": "code",
   "execution_count": 12,
   "metadata": {},
   "outputs": [
    {
     "name": "stdout",
     "output_type": "stream",
     "text": [
      "tensor(1)\n"
     ]
    },
    {
     "data": {
      "image/png": "[encoded data removed]",
      "text/plain": [
       "<Figure size 432x288 with 1 Axes>"
      ]
     },
     "metadata": {},
     "output_type": "display_data"
    }
   ],
   "source": [
    "imshow(input)\n",
    "print(target)"
   ]
  },
  {
   "cell_type": "code",
   "execution_count": null,
   "metadata": {},
   "outputs": [],
   "source": []
  }
 ],
 "metadata": {
  "kernelspec": {
   "display_name": "Python 3",
   "language": "python",
   "name": "python3"
  },
  "language_info": {
   "codemirror_mode": {
    "name": "ipython",
    "version": 3
   },
   "file_extension": ".py",
   "mimetype": "text/x-python",
   "name": "python",
   "nbconvert_exporter": "python",
   "pygments_lexer": "ipython3",
   "version": "3.6.5"
  }
 },
 "nbformat": 4,
 "nbformat_minor": 2
}
