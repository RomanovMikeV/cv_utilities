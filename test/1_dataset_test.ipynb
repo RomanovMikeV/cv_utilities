{
 "cells": [
  {
   "cell_type": "code",
   "execution_count": null,
   "metadata": {},
   "outputs": [],
   "source": [
    "import sys\n",
    "sys.path.append('../src')\n",
    "\n",
    "import dataset_template as dataset\n",
    "\n",
    "ds_index = dataset.DataSetIndex('')\n",
    "\n",
    "train_dataset = dataset.DataSet(ds_index, mode='train')\n",
    "valid_dataset = dataset.DataSet(ds_index, mode='valid')\n",
    "test_dataset = dataset.DataSet(ds_index, mode='train')"
   ]
  },
  {
   "cell_type": "code",
   "execution_count": null,
   "metadata": {},
   "outputs": [],
   "source": [
    "print(len(train_dataset), '<- train dataset size')\n",
    "print(len(valid_dataset), '<- valid dataset size')\n",
    "print(len(test_dataset), '<- test dataset size')\n",
    "\n",
    "input, target = train_dataset[0]\n",
    "input, target = valid_dataset[0]\n",
    "input, target = test_dataset[0]\n"
   ]
  },
  {
   "cell_type": "code",
   "execution_count": null,
   "metadata": {},
   "outputs": [],
   "source": [
    "print(\"Stresstesting train ...\", end='')\n",
    "for index in range(len(train_dataset)):\n",
    "    input, target = train_dataset[index]\n",
    "print(\"OK\")\n",
    "\n",
    "print(\"Stresstesting valid ...\", end='')\n",
    "for index in range(len(valid_dataset)):\n",
    "    input, target = valid_dataset[index]\n",
    "print(\"OK\")\n",
    "\n",
    "print(\"Stresstesting test ...\", end='')\n",
    "for index in range(len(test_dataset)):\n",
    "    input, target = test_dataset[index]\n",
    "print(\"OK\")"
   ]
  }
 ],
 "metadata": {
  "kernelspec": {
   "display_name": "Python 3",
   "language": "python",
   "name": "python3"
  },
  "language_info": {
   "codemirror_mode": {
    "name": "ipython",
    "version": 3
   },
   "file_extension": ".py",
   "mimetype": "text/x-python",
   "name": "python",
   "nbconvert_exporter": "python",
   "pygments_lexer": "ipython3",
   "version": "3.6.4"
  }
 },
 "nbformat": 4,
 "nbformat_minor": 2
}
